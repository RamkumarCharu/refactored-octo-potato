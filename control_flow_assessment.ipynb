{
 "cells": [
  {
   "cell_type": "code",
   "execution_count": 1,
   "metadata": {},
   "outputs": [
    {
     "name": "stdout",
     "output_type": "stream",
     "text": [
      "Positive\n"
     ]
    }
   ],
   "source": [
    "#1. Write a Python program to check if a given number is positive or negative.\n",
    "num=1\n",
    "if num>0:\n",
    "    print('Positive')\n",
    "else:\n",
    "    print('Negative')"
   ]
  },
  {
   "cell_type": "code",
   "execution_count": 3,
   "metadata": {},
   "outputs": [
    {
     "name": "stdout",
     "output_type": "stream",
     "text": [
      "Eligible\n"
     ]
    }
   ],
   "source": [
    "#2. Create a program that determines if a person is eligible to vote based on their age.\n",
    "age=19\n",
    "if age>18:\n",
    "    print('Eligible to Vote')\n",
    "else:\n",
    "    print(\"Not Eligible to Vote\")"
   ]
  },
  {
   "cell_type": "code",
   "execution_count": 5,
   "metadata": {},
   "outputs": [
    {
     "name": "stdout",
     "output_type": "stream",
     "text": [
      "2 is bigger\n"
     ]
    }
   ],
   "source": [
    "#3. Develop a program to find the maximum of two numbers using if-else statements.\n",
    "a=1\n",
    "b=2\n",
    "if a>b:\n",
    "    print(f'{a} is bigger')\n",
    "else:\n",
    "    print(f'{b} is bigger')\n"
   ]
  },
  {
   "cell_type": "code",
   "execution_count": 7,
   "metadata": {},
   "outputs": [
    {
     "name": "stdout",
     "output_type": "stream",
     "text": [
      "Leap Year\n"
     ]
    }
   ],
   "source": [
    "#4. Write a Python script to classify a given year as a leap year or not.\n",
    "year =1992\n",
    "if year % 4==0:\n",
    "    print(\"Leap Year\")\n",
    "else:\n",
    "    print(\"Not a Leap Year\")"
   ]
  },
  {
   "cell_type": "code",
   "execution_count": 9,
   "metadata": {},
   "outputs": [
    {
     "name": "stdout",
     "output_type": "stream",
     "text": [
      "given char is a vowel\n"
     ]
    }
   ],
   "source": [
    "#. Create a program that checks whether a character is a vowel or a consonant.\n",
    "#can be done using for as well \n",
    "vowels = 'aeiou'\n",
    "char = 'a'\n",
    "if char.lower()=='a' or char.lower()=='e' or char.lower()=='i' or char.lower() =='o' or char.lower()=='u':\n",
    "    print('given char is a vowel')\n",
    "else:\n",
    "    print('given char is not a vowel')"
   ]
  },
  {
   "cell_type": "code",
   "execution_count": 15,
   "metadata": {},
   "outputs": [
    {
     "name": "stdout",
     "output_type": "stream",
     "text": [
      "odd\n"
     ]
    }
   ],
   "source": [
    "#6. Implement a program to determine whether a given number is even or odd.\n",
    "num=13\n",
    "if num%2==0:\n",
    "    print(\"even\")\n",
    "else:\n",
    "    print(\"odd\")"
   ]
  },
  {
   "cell_type": "code",
   "execution_count": 19,
   "metadata": {},
   "outputs": [
    {
     "name": "stdout",
     "output_type": "stream",
     "text": [
      "abs value is 5\n"
     ]
    }
   ],
   "source": [
    "#. Write a Python function to calculate the absolute value of a number without using the `abs()` function.\n",
    "num=-5\n",
    "if num<0:\n",
    "    print(\"abs value is \" + str(num*-1))\n",
    "else :\n",
    "    print(\"abs value is \" + str(num))"
   ]
  },
  {
   "cell_type": "code",
   "execution_count": 24,
   "metadata": {},
   "outputs": [
    {
     "name": "stdout",
     "output_type": "stream",
     "text": [
      "10 is the largest Number\n"
     ]
    }
   ],
   "source": [
    "#. Develop a program that determines the largest of three given numbers using if-else statements.\n",
    "a,b,c=4,10,3\n",
    "largest_num=0\n",
    "if a>b:\n",
    "    largest_num=a\n",
    "elif c>b:\n",
    "    largest_num=c\n",
    "else:\n",
    "    largest_num=b\n",
    "print(f'{largest_num } is the largest Number')\n"
   ]
  },
  {
   "cell_type": "code",
   "execution_count": 25,
   "metadata": {},
   "outputs": [
    {
     "name": "stdout",
     "output_type": "stream",
     "text": [
      "given string is palindrome\n"
     ]
    }
   ],
   "source": [
    "#9. Create a program that checks if a given string is a palindrome.\n",
    "str = 'ramar'\n",
    "if str==str[::-1]:\n",
    "    print(f'given string is palindrome')\n",
    "else:\n",
    "    print('Given string is not a palidnrome')"
   ]
  },
  {
   "cell_type": "code",
   "execution_count": 27,
   "metadata": {},
   "outputs": [
    {
     "name": "stdout",
     "output_type": "stream",
     "text": [
      "Student Grade is :A\n"
     ]
    }
   ],
   "source": [
    "#10. Write a Python program to calculate the grade based on a student's score.\n",
    "score = 81\n",
    "grade =''\n",
    "if score >80:\n",
    "    grade='A'\n",
    "elif score>60:\n",
    "    grade='B'\n",
    "elif score>50:\n",
    "    grade='C'\n",
    "else:\n",
    "    grade='D'\n",
    "\n",
    "print(f'Student Grade is :{grade}')"
   ]
  },
  {
   "cell_type": "code",
   "execution_count": 32,
   "metadata": {},
   "outputs": [
    {
     "name": "stdout",
     "output_type": "stream",
     "text": [
      "15 is the largest Number\n"
     ]
    }
   ],
   "source": [
    "#11. Write a program to find the largest among three numbers using nested if-else statements.\n",
    "a,b,c=11,15,12\n",
    "largest_num=0\n",
    "if a>b:\n",
    "    largest_num=a\n",
    "    if a>c:\n",
    "        largest_num=a\n",
    "    else:\n",
    "        largest_num=c\n",
    "elif b>c:\n",
    "    largest_num=b\n",
    "else:\n",
    "    largest_num=c\n",
    "\n",
    "print(f'{largest_num } is the largest Number')"
   ]
  },
  {
   "cell_type": "code",
   "execution_count": 46,
   "metadata": {},
   "outputs": [
    {
     "name": "stdout",
     "output_type": "stream",
     "text": [
      "scalene triangle\n"
     ]
    }
   ],
   "source": [
    "#12. Implement a program to determine if a triangle is equilateral, isosceles, or scalene.\n",
    "side1=111\n",
    "side2=112\n",
    "side3=11\n",
    "\n",
    "if side1==side2:\n",
    "    if side1==side3:\n",
    "        print('equilateral triangle')\n",
    "    else:\n",
    "        print('isosceles triangle')\n",
    "    \n",
    "else:\n",
    "    if side1!=side3:\n",
    "        if side2!=side3:\n",
    "            print('scalene triangle')\n",
    "        else:\n",
    "            print('isosceles triangle')\n",
    "    else:\n",
    "        print('isosceles triangle')\n"
   ]
  },
  {
   "cell_type": "code",
   "execution_count": 58,
   "metadata": {},
   "outputs": [
    {
     "name": "stdout",
     "output_type": "stream",
     "text": [
      "Leap year and a centrury\n"
     ]
    }
   ],
   "source": [
    "#13. Develop a program that checks if a year is a leap year and also if it is a century year.\n",
    "\n",
    "year = 2000\n",
    "integer_part, fractional_part = divmod(year/100, 1) \n",
    "if fractional_part >0:\n",
    "    if year % 4==0:\n",
    "        print('Leap year but not a centrury')\n",
    "    else:\n",
    "        print('Not a Leap Year and not a century')\n",
    "else:\n",
    "    if year % 4==0:\n",
    "        print('Leap year and a centrury')\n",
    "    else:\n",
    "        print('Not a Leap Year but a century')\n"
   ]
  },
  {
   "cell_type": "code",
   "execution_count": 59,
   "metadata": {},
   "outputs": [
    {
     "name": "stdout",
     "output_type": "stream",
     "text": [
      "Password is valid.\n"
     ]
    }
   ],
   "source": [
    "#31. Create a program that validates a password based on complexity rules (length, characters, etc.).\n",
    "\n",
    "import re\n",
    "\n",
    "def is_valid_password(password):\n",
    "    # Check if the password is at least 8 characters long\n",
    "    if len(password) < 8:\n",
    "        return False\n",
    "    \n",
    "    # Check if the password contains at least one uppercase letter\n",
    "    if not re.search(r'[A-Z]', password):\n",
    "        return False\n",
    "    \n",
    "    # Check if the password contains at least one lowercase letter\n",
    "    if not re.search(r'[a-z]', password):\n",
    "        return False\n",
    "    \n",
    "    # Check if the password contains at least one digit\n",
    "    if not re.search(r'[0-9]', password):\n",
    "        return False\n",
    "    \n",
    "    # Check if the password contains at least one special character (e.g., !@#$%^&*)\n",
    "    if not re.search(r'[!@#$%^&*]', password):\n",
    "        return False\n",
    "\n",
    "    # If all checks pass, the password is valid\n",
    "    return True\n",
    "\n",
    "# Input a password from the user\n",
    "password = input(\"Enter a password: \")\n",
    "\n",
    "# Validate the password\n",
    "if is_valid_password(password):\n",
    "    print(\"Password is valid.\")\n",
    "else:\n",
    "    print(\"Password is invalid. Make sure it meets the complexity rules.\")\n"
   ]
  },
  {
   "cell_type": "code",
   "execution_count": 71,
   "metadata": {},
   "outputs": [
    {
     "data": {
      "text/plain": [
       "100"
      ]
     },
     "execution_count": 71,
     "metadata": {},
     "output_type": "execute_result"
    }
   ],
   "source": [
    "#33. Write a program that calculates the greatest common divisor (GCD) of two numbers using the Euclidean algorithm.\n",
    "\n",
    "def gcd(a, b): \n",
    "    if b == 0: \n",
    "        return a\n",
    "    else :\n",
    "        return gcd(b, a % b)\n",
    "    \n",
    "gcd(100,200)"
   ]
  },
  {
   "cell_type": "code",
   "execution_count": 1,
   "metadata": {},
   "outputs": [
    {
     "name": "stdout",
     "output_type": "stream",
     "text": [
      "[191, 163]\n",
      "[319, 245]\n"
     ]
    }
   ],
   "source": [
    "#34. Build a program that performs matrix multiplication using nested loops and conditional statements.\n",
    "\n",
    "def matrix_multiply(matrix1, matrix2):\n",
    "    if len(matrix1[0]) != len(matrix2):\n",
    "        raise ValueError(\"The number of columns in the first matrix must be equal to the number of rows in the second matrix.\")\n",
    "    \n",
    "    result = [[0 for _ in range(len(matrix2[0]))] for _ in range(len(matrix1))]\n",
    "    \n",
    "    for i in range(len(matrix1)):\n",
    "        for j in range(len(matrix2[0])):\n",
    "            for k in range(len(matrix2)):\n",
    "                result[i][j] += matrix1[i][k] * matrix2[k][j]\n",
    "    \n",
    "    return result\n",
    "\n",
    "matrix1 = [[4,8,3],\n",
    "           [4,6,9]]\n",
    "\n",
    "matrix2 = [[7, 8],\n",
    "           [11, 10],\n",
    "           [25, 17]]\n",
    "\n",
    "# Perform matrix multiplication\n",
    "result_matrix = matrix_multiply(matrix1, matrix2)\n",
    "\n",
    "# Print the result matrix\n",
    "for row in result_matrix:\n",
    "    print(row)\n"
   ]
  },
  {
   "cell_type": "code",
   "execution_count": 18,
   "metadata": {},
   "outputs": [
    {
     "name": "stdout",
     "output_type": "stream",
     "text": [
      "X's turn.\n",
      "\n",
      "\n",
      "X |   |       1 | 2 | 3\n",
      "---------\n",
      "  |   |       4 | 5 | 6\n",
      "---------\n",
      "  |   |       7 | 8 | 9\n",
      "==========================================\n",
      "\n",
      "O's turn.\n",
      "\n",
      "\n",
      "X | O |       1 | 2 | 3\n",
      "---------\n",
      "  |   |       4 | 5 | 6\n",
      "---------\n",
      "  |   |       7 | 8 | 9\n",
      "==========================================\n",
      "\n"
     ]
    }
   ],
   "source": [
    "game_board = [\" \", \" \", \" \",\n",
    "              \" \", \" \", \" \",\n",
    "              \" \", \" \", \" \"]\n",
    "global game_end \n",
    "game_end=False\n",
    "def display_game_board():\n",
    "    print(\"\\n\")\n",
    "    print(game_board[0] + \" | \" + game_board[1] + \" | \" + game_board[2] + \"     1 | 2 | 3\")\n",
    "    print(\"---------\")\n",
    "    print(game_board[3] + \" | \" + game_board[4] + \" | \" + game_board[5] + \"     4 | 5 | 6\")\n",
    "    print(\"---------\")\n",
    "    print(game_board[6] + \" | \" + game_board[7] + \" | \" + game_board[8] + \"     7 | 8 | 9\")\n",
    "    print(\"==========================================\\n\")\n",
    "    \n",
    "def turn(xoro):\n",
    "    print(xoro + \"'s turn.\")\n",
    "    position = input(\"Choose a spot from 1-9: \")\n",
    "    while position not in [\"1\", \"2\", \"3\", \"4\", \"5\", \"6\", \"7\", \"8\", \"9\"]:\n",
    "        position = input(\"Hey! Choose a spot from 1-9: \") \n",
    "    position = int(position) - 1\n",
    "\n",
    "    if game_board[position] ==\" \":\n",
    "        valid = True\n",
    "    else:\n",
    "        print(\"Opps! You have entered an incorrect spot. Try again.\")\n",
    "\n",
    "    game_board[int(position)] = xoro\n",
    "\n",
    "    # display game board\n",
    "    display_game_board()\n",
    "turn('X')\n",
    "turn('O')\n",
    "game_on = True\n",
    "#while game_on:\n",
    "    "
   ]
  },
  {
   "cell_type": "code",
   "execution_count": 14,
   "metadata": {},
   "outputs": [
    {
     "name": "stdout",
     "output_type": "stream",
     "text": [
      "[0, 1, 1, 2, 3, 5, 8, 13, 21, 34]\n",
      "[0, 1, 1, 2, 3, 5, 8, 13, 21, 34]\n"
     ]
    }
   ],
   "source": [
    "#36. Write a program that generates Fibonacci numbers up to a specified term using iterative methods.\n",
    "\n",
    "def fiba(n):\n",
    "    if n <= 0:\n",
    "        return []\n",
    "    elif n == 1:\n",
    "        return [0]\n",
    "    elif n == 2:\n",
    "        return [0, 1]\n",
    "    else:\n",
    "        fib = fiba(n - 1)\n",
    "        fib.append(fib[-1] + fib[-2])\n",
    "        return fib\n",
    "\n",
    "seq = fiba(10)\n",
    "print(seq)\n",
    "#####################################\n",
    "def fibb(n):\n",
    "    fib_numbers = []\n",
    "    \n",
    "    a, b = 0, 1\n",
    "\n",
    "    for _ in range(n):\n",
    "        fib_numbers.append(a)\n",
    "        a, b = b, a + b\n",
    "    return fib_numbers\n",
    "\n",
    "print(fibb(10))\n"
   ]
  },
  {
   "cell_type": "code",
   "execution_count": 20,
   "metadata": {},
   "outputs": [
    {
     "name": "stdout",
     "output_type": "stream",
     "text": [
      "The 10th term of the Fibonacci sequence is: 55\n"
     ]
    }
   ],
   "source": [
    "# 37. Develop a program that calculates the nth term of the Fibonacci sequence using memoization.\n",
    "\n",
    "fib_cache = {}\n",
    "\n",
    "def fibonacci_memoization(n):\n",
    "    if n <= 0:\n",
    "        return 0\n",
    "    elif n == 1:\n",
    "        return 1\n",
    "\n",
    "    #if n in fib_cache:\n",
    "    ##    print(fib_cache[n])\n",
    "    #    return fib_cache[n]\n",
    "    \n",
    "    fib_value = fibonacci_memoization(n - 1) + fibonacci_memoization(n - 2)\n",
    "    fib_cache[n] = fib_value\n",
    "    return fib_value\n",
    "\n",
    "n = int(input(\"Enter the term (n) of the Fibonacci sequence to calculate: \"))\n",
    "\n",
    "if n < 0:\n",
    "    print(\"Please enter a non-negative integer.\")\n",
    "else:\n",
    "    fibonacci_term = fibonacci_memoization(n)\n",
    "    print(f\"The {n}th term of the Fibonacci sequence is: {fibonacci_term}\")\n"
   ]
  },
  {
   "cell_type": "code",
   "execution_count": 29,
   "metadata": {},
   "outputs": [
    {
     "name": "stdout",
     "output_type": "stream",
     "text": [
      "Calendar for 3/2023:\n",
      "     March 2023\n",
      "Mo Tu We Th Fr Sa Su\n",
      "       1  2  3  4  5\n",
      " 6  7  8  9 10 11 12\n",
      "13 14 15 16 17 18 19\n",
      "20 21 22 23 24 25 26\n",
      "27 28 29 30 31\n",
      "\n"
     ]
    }
   ],
   "source": [
    "#38. Create a program that generates a calendar for a given month and year using conditional statements.\n",
    "\n",
    "import calendar\n",
    "\n",
    "def generate_calendar(year, month):\n",
    "    # Create a calendar object\n",
    "    cal = calendar.month(year, month)\n",
    "    \n",
    "    # Print the calendar\n",
    "    print(\"Calendar for {}/{}:\".format(month, year))\n",
    "    print(cal)\n",
    "\n",
    "# Input the year and month\n",
    "year = int(input(\"Enter the year: \"))\n",
    "month = int(input(\"Enter the month (1-12): \"))\n",
    "\n",
    "if 1 <= month <= 12:\n",
    "    generate_calendar(year, month)\n",
    "else:\n",
    "    print(\"Please enter a valid month (1-12).\")"
   ]
  },
  {
   "cell_type": "code",
   "execution_count": null,
   "metadata": {},
   "outputs": [],
   "source": [
    "# 39. Build a program that simulates a basic text-based blackjack game against the computer."
   ]
  },
  {
   "cell_type": "code",
   "execution_count": 30,
   "metadata": {},
   "outputs": [
    {
     "name": "stdout",
     "output_type": "stream",
     "text": [
      "Prime factors of 10: [2, 5]\n"
     ]
    }
   ],
   "source": [
    "# 40. Write a program that generates the prime factors of a given number using trial division.\n",
    "def prime_factors(n):\n",
    "    factors = []\n",
    "    divisor = 2\n",
    "\n",
    "    while n > 1:\n",
    "        while n % divisor == 0:\n",
    "            factors.append(divisor)\n",
    "            n //= divisor  \n",
    "\n",
    "        divisor += 1\n",
    "\n",
    "    return factors\n",
    "\n",
    "num = int(input(\"Enter a positive integer: \"))\n",
    "\n",
    "if num <= 0:\n",
    "    print(\"Please enter a positive integer.\")\n",
    "else:\n",
    "    factors = prime_factors(num)\n",
    "    if len(factors) == 0:\n",
    "        print(f\"{num} has no prime factors.\")\n",
    "    else:\n",
    "        print(f\"Prime factors of {num}: {factors}\")\n"
   ]
  }
 ],
 "metadata": {
  "kernelspec": {
   "display_name": "mycondaenv",
   "language": "python",
   "name": "python3"
  },
  "language_info": {
   "codemirror_mode": {
    "name": "ipython",
    "version": 3
   },
   "file_extension": ".py",
   "mimetype": "text/x-python",
   "name": "python",
   "nbconvert_exporter": "python",
   "pygments_lexer": "ipython3",
   "version": "3.10.12"
  },
  "orig_nbformat": 4,
  "vscode": {
   "interpreter": {
    "hash": "88933ef7c440b19f2662abe4de92230cd20e999d219e468ad8636b776314f54a"
   }
  }
 },
 "nbformat": 4,
 "nbformat_minor": 2
}
